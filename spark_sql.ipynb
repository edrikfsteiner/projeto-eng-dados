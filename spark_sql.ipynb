{
 "cells": [
  {
   "cell_type": "code",
   "execution_count": 1,
   "metadata": {
    "colab": {
     "base_uri": "https://localhost:8080/"
    },
    "id": "ddrmZAIXUMcD",
    "outputId": "41d4d93e-c075-48cf-9149-e6e66ff22fc4"
   },
   "outputs": [],
   "source": [
    "from pyspark.sql import SparkSession"
   ]
  },
  {
   "cell_type": "code",
   "execution_count": 3,
   "metadata": {
    "id": "hiL_WnXWUZyF"
   },
   "outputs": [],
   "source": [
    "spark = ( \n",
    " SparkSession\n",
    " .builder\n",
    "    .master(\"local[*]\")\n",
    " .appName('spark_sql')\n",
    " .getOrCreate()\n",
    ")\n",
    "\n",
    "df = (\n",
    "    spark\n",
    "    .read\n",
    "    .option('delimiter', ';')\n",
    "    .option('header', 'true')\n",
    "    .option('inferSchema', 'true')\n",
    "    .option('enconding', 'ISO-8859-1')\n",
    "    .csv('./dados/precos-gasolina-etanol-10.csv')\n",
    ")"
   ]
  },
  {
   "cell_type": "code",
   "execution_count": 4,
   "metadata": {
    "colab": {
     "base_uri": "https://localhost:8080/"
    },
    "id": "f_xTprevUeWz",
    "outputId": "51afaff6-8fe8-4bfe-92ae-c2f9193f49dc"
   },
   "outputs": [
    {
     "name": "stdout",
     "output_type": "stream",
     "text": [
      "root\n",
      " |-- Regiao - Sigla: string (nullable = true)\n",
      " |-- Estado - Sigla: string (nullable = true)\n",
      " |-- Municipio: string (nullable = true)\n",
      " |-- Revenda: string (nullable = true)\n",
      " |-- CNPJ da Revenda: string (nullable = true)\n",
      " |-- Nome da Rua: string (nullable = true)\n",
      " |-- Numero Rua: string (nullable = true)\n",
      " |-- Complemento: string (nullable = true)\n",
      " |-- Bairro: string (nullable = true)\n",
      " |-- Cep: string (nullable = true)\n",
      " |-- Produto: string (nullable = true)\n",
      " |-- Data da Coleta: string (nullable = true)\n",
      " |-- Valor de Venda: string (nullable = true)\n",
      " |-- Valor de Compra: string (nullable = true)\n",
      " |-- Unidade de Medida: string (nullable = true)\n",
      " |-- Bandeira: string (nullable = true)\n",
      "\n"
     ]
    }
   ],
   "source": [
    "df.printSchema()"
   ]
  },
  {
   "cell_type": "code",
   "execution_count": 5,
   "metadata": {},
   "outputs": [],
   "source": [
    "df.createOrReplaceTempView('combustiveis')"
   ]
  },
  {
   "cell_type": "code",
   "execution_count": 6,
   "metadata": {},
   "outputs": [
    {
     "name": "stdout",
     "output_type": "stream",
     "text": [
      "+--------------+--------------+---------+-------+---------------+-----------+----------+-----------+------+---+-------+--------------+--------------+---------------+-----------------+--------+\n",
      "|Regiao - Sigla|Estado - Sigla|Municipio|Revenda|CNPJ da Revenda|Nome da Rua|Numero Rua|Complemento|Bairro|Cep|Produto|Data da Coleta|Valor de Venda|Valor de Compra|Unidade de Medida|Bandeira|\n",
      "+--------------+--------------+---------+-------+---------------+-----------+----------+-----------+------+---+-------+--------------+--------------+---------------+-----------------+--------+\n",
      "+--------------+--------------+---------+-------+---------------+-----------+----------+-----------+------+---+-------+--------------+--------------+---------------+-----------------+--------+\n",
      "\n"
     ]
    }
   ],
   "source": [
    "spark.sql(\"\"\"\n",
    "    select * from combustiveis where `Valor de Compra` IS NOT NULL\n",
    "\"\"\").show()"
   ]
  },
  {
   "cell_type": "code",
   "execution_count": 7,
   "metadata": {},
   "outputs": [],
   "source": [
    "view_precos = spark.sql(\"\"\"\n",
    "    select \n",
    "        `Estado - Sigla`, \n",
    "        `Produto`, \n",
    "        regexp_replace(`Valor de Venda`, \",\", \".\") as `Valor de Venda`,\n",
    "        `Unidade de Medida`\n",
    "    from combustiveis\n",
    "\"\"\")"
   ]
  },
  {
   "cell_type": "code",
   "execution_count": 8,
   "metadata": {
    "colab": {
     "base_uri": "https://localhost:8080/"
    },
    "id": "TA3R73sKUimk",
    "outputId": "4960de2c-f093-49d5-bdf5-32854980d412"
   },
   "outputs": [
    {
     "name": "stdout",
     "output_type": "stream",
     "text": [
      "+--------------+------------------+--------------+-----------------+\n",
      "|Estado - Sigla|           Produto|Valor de Venda|Unidade de Medida|\n",
      "+--------------+------------------+--------------+-----------------+\n",
      "|            AL|          GASOLINA|          6.08|       R$ / litro|\n",
      "|            AL|GASOLINA ADITIVADA|          6.08|       R$ / litro|\n",
      "|            AL|            ETANOL|          4.78|       R$ / litro|\n",
      "|            AL|          GASOLINA|          5.79|       R$ / litro|\n",
      "|            AL|            ETANOL|          4.29|       R$ / litro|\n",
      "+--------------+------------------+--------------+-----------------+\n",
      "only showing top 5 rows\n",
      "\n"
     ]
    }
   ],
   "source": [
    "view_precos.createOrReplaceTempView('view_precos')\n",
    "view_precos.show(5)"
   ]
  },
  {
   "cell_type": "code",
   "execution_count": null,
   "metadata": {},
   "outputs": [
    {
     "name": "stderr",
     "output_type": "stream",
     "text": [
      "[Stage 5:>                                                          (0 + 3) / 3]\r"
     ]
    },
    {
     "name": "stdout",
     "output_type": "stream",
     "text": [
      "+--------------+------------------+-----------------+-----------+-----------+------------------+\n",
      "|Estado - Sigla|           Produto|Unidade de Medida|menor_valor|maior_valor|         diferenca|\n",
      "+--------------+------------------+-----------------+-----------+-----------+------------------+\n",
      "|            SP|GASOLINA ADITIVADA|       R$ / litro|       4.79|       8.69|3.8999999999999995|\n",
      "|            SP|            ETANOL|       R$ / litro|       2.78|       6.19|3.4100000000000006|\n",
      "|            SP|          GASOLINA|       R$ / litro|       4.59|       7.59|               3.0|\n",
      "|            PA|            ETANOL|       R$ / litro|       3.85|        6.6|2.7499999999999996|\n",
      "|            RS|            ETANOL|       R$ / litro|       3.88|       6.29|              2.41|\n",
      "+--------------+------------------+-----------------+-----------+-----------+------------------+\n",
      "only showing top 5 rows\n",
      "\n"
     ]
    },
    {
     "name": "stderr",
     "output_type": "stream",
     "text": [
      "                                                                                \r"
     ]
    }
   ],
   "source": [
    "df_diferenca_precos = spark.sql(\"\"\"\n",
    "    select \n",
    "        `Estado - Sigla`,\n",
    "        `Produto`,\n",
    "        `Unidade de Medida`,\n",
    "        MIN(`Valor de Venda`) as menor_valor,\n",
    "        MAX(`Valor de Venda`) as maior_valor,\n",
    "        MAX(`Valor de Venda`) - MIN(`Valor de Venda`) as diferenca\n",
    "   from view_precos\n",
    "   group by all\n",
    "   order by diferenca DESC\n",
    "\"\"\")\n",
    "df_diferenca_precos.show(5)"
   ]
  }
 ],
 "metadata": {
  "colab": {
   "provenance": []
  },
  "kernelspec": {
   "display_name": ".venv",
   "language": "python",
   "name": "python3"
  },
  "language_info": {
   "codemirror_mode": {
    "name": "ipython",
    "version": 3
   },
   "file_extension": ".py",
   "mimetype": "text/x-python",
   "name": "python",
   "nbconvert_exporter": "python",
   "pygments_lexer": "ipython3",
   "version": "3.13.2"
  }
 },
 "nbformat": 4,
 "nbformat_minor": 4
}
