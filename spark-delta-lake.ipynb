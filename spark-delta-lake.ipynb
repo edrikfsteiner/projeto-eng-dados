{
 "cells": [
  {
   "cell_type": "code",
   "execution_count": 1,
   "metadata": {
    "editable": true,
    "id": "EHdeeUNGSRUb",
    "slideshow": {
     "slide_type": ""
    },
    "tags": []
   },
   "outputs": [],
   "source": [
    "from pyspark.sql import SparkSession\n",
    "from pyspark.sql.types import StructType, StructField, StringType, FloatType\n",
    "\n",
    "from delta import *"
   ]
  },
  {
   "cell_type": "code",
   "execution_count": 2,
   "metadata": {
    "id": "o6a6T_sRSnKX"
   },
   "outputs": [
    {
     "name": "stderr",
     "output_type": "stream",
     "text": [
      "25/04/12 10:54:16 WARN Utils: Your hostname, edrik-Inspiron-15-3520 resolves to a loopback address: 127.0.1.1; using 192.168.0.48 instead (on interface wlp2s0)\n",
      "25/04/12 10:54:16 WARN Utils: Set SPARK_LOCAL_IP if you need to bind to another address\n"
     ]
    },
    {
     "name": "stdout",
     "output_type": "stream",
     "text": [
      ":: loading settings :: url = jar:file:/home/edrik/dev/projeto-eng-dados/.venv/lib/python3.13/site-packages/pyspark/jars/ivy-2.5.1.jar!/org/apache/ivy/core/settings/ivysettings.xml\n"
     ]
    },
    {
     "name": "stderr",
     "output_type": "stream",
     "text": [
      "Ivy Default Cache set to: /home/edrik/.ivy2/cache\n",
      "The jars for the packages stored in: /home/edrik/.ivy2/jars\n",
      "io.delta#delta-spark_2.12 added as a dependency\n",
      ":: resolving dependencies :: org.apache.spark#spark-submit-parent-76b3fbee-c7aa-47df-ab80-92ea707976d6;1.0\n",
      "\tconfs: [default]\n",
      "\tfound io.delta#delta-spark_2.12;3.2.0 in central\n",
      "\tfound io.delta#delta-storage;3.2.0 in central\n",
      "\tfound org.antlr#antlr4-runtime;4.9.3 in central\n",
      ":: resolution report :: resolve 168ms :: artifacts dl 13ms\n",
      "\t:: modules in use:\n",
      "\tio.delta#delta-spark_2.12;3.2.0 from central in [default]\n",
      "\tio.delta#delta-storage;3.2.0 from central in [default]\n",
      "\torg.antlr#antlr4-runtime;4.9.3 from central in [default]\n",
      "\t---------------------------------------------------------------------\n",
      "\t|                  |            modules            ||   artifacts   |\n",
      "\t|       conf       | number| search|dwnlded|evicted|| number|dwnlded|\n",
      "\t---------------------------------------------------------------------\n",
      "\t|      default     |   3   |   0   |   0   |   0   ||   3   |   0   |\n",
      "\t---------------------------------------------------------------------\n",
      ":: retrieving :: org.apache.spark#spark-submit-parent-76b3fbee-c7aa-47df-ab80-92ea707976d6\n",
      "\tconfs: [default]\n",
      "\t0 artifacts copied, 3 already retrieved (0kB/6ms)\n",
      "25/04/12 10:54:16 WARN NativeCodeLoader: Unable to load native-hadoop library for your platform... using builtin-java classes where applicable\n",
      "Setting default log level to \"WARN\".\n",
      "To adjust logging level use sc.setLogLevel(newLevel). For SparkR, use setLogLevel(newLevel).\n"
     ]
    }
   ],
   "source": [
    "spark = (\n",
    "    SparkSession\n",
    "    .builder\n",
    "    .master(\"local[*]\")\n",
    "    .config(\"spark.jars.packages\", \"io.delta:delta-spark_2.12:3.2.0\")\n",
    "    .config(\"spark.sql.extensions\", \"io.delta.sql.DeltaSparkSessionExtension\")\n",
    "    .config(\"spark.sql.catalog.spark_catalog\", \"org.apache.spark.sql.delta.catalog.DeltaCatalog\")\n",
    "    .getOrCreate()\n",
    ")"
   ]
  },
  {
   "cell_type": "code",
   "execution_count": 3,
   "metadata": {
    "colab": {
     "base_uri": "https://localhost:8080/",
     "height": 219
    },
    "id": "dLVRL7feT-cX",
    "outputId": "f9dc706f-a3a5-4f6b-8073-79fbc053a5fc"
   },
   "outputs": [
    {
     "data": {
      "text/html": [
       "\n",
       "            <div>\n",
       "                <p><b>SparkSession - in-memory</b></p>\n",
       "                \n",
       "        <div>\n",
       "            <p><b>SparkContext</b></p>\n",
       "\n",
       "            <p><a href=\"http://192.168.0.48:4040\">Spark UI</a></p>\n",
       "\n",
       "            <dl>\n",
       "              <dt>Version</dt>\n",
       "                <dd><code>v3.5.3</code></dd>\n",
       "              <dt>Master</dt>\n",
       "                <dd><code>local[*]</code></dd>\n",
       "              <dt>AppName</dt>\n",
       "                <dd><code>pyspark-shell</code></dd>\n",
       "            </dl>\n",
       "        </div>\n",
       "        \n",
       "            </div>\n",
       "        "
      ],
      "text/plain": [
       "<pyspark.sql.session.SparkSession at 0x7969b85b02f0>"
      ]
     },
     "execution_count": 3,
     "metadata": {},
     "output_type": "execute_result"
    }
   ],
   "source": [
    "spark"
   ]
  },
  {
   "cell_type": "code",
   "execution_count": 4,
   "metadata": {
    "colab": {
     "base_uri": "https://localhost:8080/"
    },
    "id": "l4mjoy7AUAfW",
    "outputId": "283707f5-ecc4-4bb6-fed8-ae7ea1e0b060"
   },
   "outputs": [
    {
     "data": {
      "text/plain": [
       "DataFrame[]"
      ]
     },
     "execution_count": 4,
     "metadata": {},
     "output_type": "execute_result"
    }
   ],
   "source": [
    "spark.sql(\n",
    "  \"\"\"\n",
    "  CREATE TABLE carro_delta (id INT, placa STRING) USING delta\n",
    "  \"\"\"\n",
    ")"
   ]
  },
  {
   "cell_type": "code",
   "execution_count": 5,
   "metadata": {
    "colab": {
     "base_uri": "https://localhost:8080/"
    },
    "id": "ddrmZAIXUMcD",
    "outputId": "41d4d93e-c075-48cf-9149-e6e66ff22fc4"
   },
   "outputs": [
    {
     "name": "stderr",
     "output_type": "stream",
     "text": [
      "25/04/12 10:55:06 WARN SparkStringUtils: Truncated the string representation of a plan since it was too large. This behavior can be adjusted by setting 'spark.sql.debug.maxToStringFields'.\n",
      "                                                                                \r"
     ]
    },
    {
     "name": "stdout",
     "output_type": "stream",
     "text": [
      "+---+-----+\n",
      "| id|placa|\n",
      "+---+-----+\n",
      "+---+-----+\n",
      "\n"
     ]
    }
   ],
   "source": [
    "spark.sql(\"select * from carro_delta\").show()"
   ]
  },
  {
   "cell_type": "code",
   "execution_count": 6,
   "metadata": {
    "id": "hiL_WnXWUZyF"
   },
   "outputs": [],
   "source": [
    "from delta.tables import DeltaTable\n",
    "\n",
    "carro = DeltaTable.forPath(spark, \"./spark-warehouse/carro_delta\")"
   ]
  },
  {
   "cell_type": "code",
   "execution_count": 7,
   "metadata": {
    "colab": {
     "base_uri": "https://localhost:8080/"
    },
    "id": "f_xTprevUeWz",
    "outputId": "51afaff6-8fe8-4bfe-92ae-c2f9193f49dc"
   },
   "outputs": [
    {
     "name": "stdout",
     "output_type": "stream",
     "text": [
      "+-------+--------------------+------+--------+------------+--------------------+----+--------+---------+-----------+--------------+-------------+----------------+------------+--------------------+\n",
      "|version|           timestamp|userId|userName|   operation| operationParameters| job|notebook|clusterId|readVersion|isolationLevel|isBlindAppend|operationMetrics|userMetadata|          engineInfo|\n",
      "+-------+--------------------+------+--------+------------+--------------------+----+--------+---------+-----------+--------------+-------------+----------------+------------+--------------------+\n",
      "|      0|2025-04-12 10:54:...|  NULL|    NULL|CREATE TABLE|{partitionBy -> [...|NULL|    NULL|     NULL|       NULL|  Serializable|         true|              {}|        NULL|Apache-Spark/3.5....|\n",
      "+-------+--------------------+------+--------+------------+--------------------+----+--------+---------+-----------+--------------+-------------+----------------+------------+--------------------+\n",
      "\n"
     ]
    }
   ],
   "source": [
    "carro.history().show()"
   ]
  },
  {
   "cell_type": "code",
   "execution_count": 8,
   "metadata": {
    "colab": {
     "base_uri": "https://localhost:8080/"
    },
    "id": "TA3R73sKUimk",
    "outputId": "4960de2c-f093-49d5-bdf5-32854980d412"
   },
   "outputs": [
    {
     "data": {
      "text/plain": [
       "DataFrame[]"
      ]
     },
     "execution_count": 8,
     "metadata": {},
     "output_type": "execute_result"
    }
   ],
   "source": [
    "spark.sql(\"INSERT INTO carro_delta VALUES (1, 'XYZ1J34'), (2, 'RLC5B93'), (3, 'ABV1V23')\")"
   ]
  },
  {
   "cell_type": "code",
   "execution_count": 9,
   "metadata": {
    "colab": {
     "base_uri": "https://localhost:8080/"
    },
    "id": "y1MdUrduUnWG",
    "outputId": "ea2f9a92-fe5e-4570-c7b0-b0b572d1b05c"
   },
   "outputs": [
    {
     "name": "stdout",
     "output_type": "stream",
     "text": [
      "+---+-------+\n",
      "| id|  placa|\n",
      "+---+-------+\n",
      "|  2|RLC5B93|\n",
      "|  3|ABV1V23|\n",
      "|  1|XYZ1J34|\n",
      "+---+-------+\n",
      "\n"
     ]
    }
   ],
   "source": [
    "spark.sql(\"select * from carro_delta\").show()"
   ]
  },
  {
   "cell_type": "code",
   "execution_count": 10,
   "metadata": {
    "colab": {
     "base_uri": "https://localhost:8080/"
    },
    "id": "Tt6xjvytUrvV",
    "outputId": "ef45f1b0-0b67-4cf9-92f3-a2972f59110c"
   },
   "outputs": [
    {
     "name": "stdout",
     "output_type": "stream",
     "text": [
      "+-------+-----------------------+------+--------+------------+----------------------------------------------------------------------------------------------+----+--------+---------+-----------+--------------+-------------+-----------------------------------------------------------+------------+-----------------------------------+\n",
      "|version|timestamp              |userId|userName|operation   |operationParameters                                                                           |job |notebook|clusterId|readVersion|isolationLevel|isBlindAppend|operationMetrics                                           |userMetadata|engineInfo                         |\n",
      "+-------+-----------------------+------+--------+------------+----------------------------------------------------------------------------------------------+----+--------+---------+-----------+--------------+-------------+-----------------------------------------------------------+------------+-----------------------------------+\n",
      "|1      |2025-04-12 10:55:18.729|NULL  |NULL    |WRITE       |{mode -> Append, partitionBy -> []}                                                           |NULL|NULL    |NULL     |0          |Serializable  |true         |{numFiles -> 3, numOutputRows -> 3, numOutputBytes -> 2133}|NULL        |Apache-Spark/3.5.3 Delta-Lake/3.2.0|\n",
      "|0      |2025-04-12 10:54:48.602|NULL  |NULL    |CREATE TABLE|{partitionBy -> [], clusterBy -> [], description -> NULL, isManaged -> true, properties -> {}}|NULL|NULL    |NULL     |NULL       |Serializable  |true         |{}                                                         |NULL        |Apache-Spark/3.5.3 Delta-Lake/3.2.0|\n",
      "+-------+-----------------------+------+--------+------------+----------------------------------------------------------------------------------------------+----+--------+---------+-----------+--------------+-------------+-----------------------------------------------------------+------------+-----------------------------------+\n",
      "\n"
     ]
    }
   ],
   "source": [
    "carro.history().show(truncate=False)"
   ]
  },
  {
   "cell_type": "code",
   "execution_count": 11,
   "metadata": {
    "colab": {
     "base_uri": "https://localhost:8080/"
    },
    "id": "vHqyDqhFUvLg",
    "outputId": "1c084cab-3eb1-4df4-bbcc-c2703621c2c2"
   },
   "outputs": [
    {
     "data": {
      "text/plain": [
       "DataFrame[]"
      ]
     },
     "execution_count": 11,
     "metadata": {},
     "output_type": "execute_result"
    }
   ],
   "source": [
    "spark.sql(\n",
    "    \"\"\"\n",
    "    alter table carro_delta add column marca STRING, modelo STRING, ano INT\n",
    "    \"\"\"\n",
    ")"
   ]
  },
  {
   "cell_type": "code",
   "execution_count": 12,
   "metadata": {
    "colab": {
     "base_uri": "https://localhost:8080/"
    },
    "id": "Bxgsegi_U5lZ",
    "outputId": "14551402-1c62-4495-a856-0dbd10977cd9"
   },
   "outputs": [
    {
     "name": "stdout",
     "output_type": "stream",
     "text": [
      "+---+-------+-----+------+----+\n",
      "| id|  placa|marca|modelo| ano|\n",
      "+---+-------+-----+------+----+\n",
      "|  2|RLC5B93| NULL|  NULL|NULL|\n",
      "|  3|ABV1V23| NULL|  NULL|NULL|\n",
      "|  1|XYZ1J34| NULL|  NULL|NULL|\n",
      "+---+-------+-----+------+----+\n",
      "\n"
     ]
    }
   ],
   "source": [
    "spark.sql(\n",
    "    \"\"\"\n",
    "    select * from carro_delta\n",
    "    \"\"\"\n",
    ").show()"
   ]
  },
  {
   "cell_type": "code",
   "execution_count": 13,
   "metadata": {
    "colab": {
     "base_uri": "https://localhost:8080/"
    },
    "id": "stJnH3v0U8Ul",
    "outputId": "389e5cbb-b56e-4176-ada7-2bc87f6fc9b6"
   },
   "outputs": [
    {
     "data": {
      "text/plain": [
       "DataFrame[num_affected_rows: bigint]"
      ]
     },
     "execution_count": 13,
     "metadata": {},
     "output_type": "execute_result"
    }
   ],
   "source": [
    "spark.sql(\n",
    "    \"\"\"\n",
    "    update carro_delta set marca = 'Renault', modelo = 'Sandero', ano = 2021 where id = 1\n",
    "    \"\"\"\n",
    ")"
   ]
  },
  {
   "cell_type": "code",
   "execution_count": 14,
   "metadata": {
    "colab": {
     "base_uri": "https://localhost:8080/"
    },
    "id": "N_u_J2QaU-iQ",
    "outputId": "4020ca95-8dd5-4582-a240-3f4fd10af561"
   },
   "outputs": [
    {
     "name": "stdout",
     "output_type": "stream",
     "text": [
      "+---+-------+-------+-------+----+\n",
      "| id|  placa|  marca| modelo| ano|\n",
      "+---+-------+-------+-------+----+\n",
      "|  1|XYZ1J34|Renault|Sandero|2021|\n",
      "|  2|RLC5B93|   NULL|   NULL|NULL|\n",
      "|  3|ABV1V23|   NULL|   NULL|NULL|\n",
      "+---+-------+-------+-------+----+\n",
      "\n"
     ]
    }
   ],
   "source": [
    "spark.sql(\n",
    "    \"\"\"\n",
    "    select * from carro_delta\n",
    "    \"\"\"\n",
    ").show()"
   ]
  },
  {
   "cell_type": "code",
   "execution_count": 15,
   "metadata": {
    "colab": {
     "base_uri": "https://localhost:8080/"
    },
    "id": "yi5cTMVTVCh0",
    "outputId": "6afd625f-b30d-41fe-b7ca-3f7e583d2e62"
   },
   "outputs": [
    {
     "data": {
      "text/plain": [
       "True"
      ]
     },
     "execution_count": 15,
     "metadata": {},
     "output_type": "execute_result"
    }
   ],
   "source": [
    "DeltaTable.isDeltaTable(spark, \"spark-warehouse/carro_delta\")"
   ]
  },
  {
   "cell_type": "code",
   "execution_count": 16,
   "metadata": {},
   "outputs": [
    {
     "name": "stdout",
     "output_type": "stream",
     "text": [
      "+---+-------+-------+-------+----+\n",
      "| id|  placa|  marca| modelo| ano|\n",
      "+---+-------+-------+-------+----+\n",
      "|  1|XYZ1J34|Renault|Sandero|2021|\n",
      "|  2|RLC5B93|   NULL|   NULL|NULL|\n",
      "|  3|ABV1V23|   NULL|   NULL|NULL|\n",
      "+---+-------+-------+-------+----+\n",
      "\n"
     ]
    }
   ],
   "source": [
    "spark.sql('select * from carro_delta').show()"
   ]
  },
  {
   "cell_type": "code",
   "execution_count": 17,
   "metadata": {},
   "outputs": [
    {
     "data": {
      "text/plain": [
       "DataFrame[num_affected_rows: bigint]"
      ]
     },
     "execution_count": 17,
     "metadata": {},
     "output_type": "execute_result"
    }
   ],
   "source": [
    "spark.sql('update carro_delta set marca=\"GM\", modelo=\"tracker\", ano=2020 where id = 2    ')"
   ]
  },
  {
   "cell_type": "code",
   "execution_count": 18,
   "metadata": {},
   "outputs": [
    {
     "data": {
      "text/plain": [
       "DataFrame[num_affected_rows: bigint]"
      ]
     },
     "execution_count": 18,
     "metadata": {},
     "output_type": "execute_result"
    }
   ],
   "source": [
    "spark.sql('update carro_delta set marca=\"Ford\", modelo=\"EcoSport\", ano=2022 where id = 3    ')"
   ]
  },
  {
   "cell_type": "code",
   "execution_count": 19,
   "metadata": {},
   "outputs": [
    {
     "name": "stdout",
     "output_type": "stream",
     "text": [
      "+---+-------+-------+--------+----+\n",
      "| id|  placa|  marca|  modelo| ano|\n",
      "+---+-------+-------+--------+----+\n",
      "|  1|XYZ1J34|Renault| Sandero|2021|\n",
      "|  3|ABV1V23|   Ford|EcoSport|2022|\n",
      "|  2|RLC5B93|     GM| tracker|2020|\n",
      "+---+-------+-------+--------+----+\n",
      "\n"
     ]
    }
   ],
   "source": [
    "spark.sql('select * from carro_delta').show()"
   ]
  },
  {
   "cell_type": "code",
   "execution_count": 20,
   "metadata": {},
   "outputs": [
    {
     "data": {
      "text/html": [
       "<style>pre { white-space: pre !important; }</style>"
      ],
      "text/plain": [
       "<IPython.core.display.HTML object>"
      ]
     },
     "metadata": {},
     "output_type": "display_data"
    }
   ],
   "source": [
    "from IPython.display import display, HTML\n",
    "display(HTML(\"<style>pre { white-space: pre !important; }</style>\"))"
   ]
  },
  {
   "cell_type": "code",
   "execution_count": 21,
   "metadata": {},
   "outputs": [
    {
     "name": "stdout",
     "output_type": "stream",
     "text": [
      "+-------+-----------------------+------+--------+------------+--------------------------------------------------------------------------------------------------------------------------------------------------------------------------------------------------------------------------------------------+----+--------+---------+-----------+--------------+-------------+-----------------------------------------------------------------------------------------------------------------------------------------------------------------------------------------------------------------------------------------------------------------------------------------------------------------------------+------------+-----------------------------------+\n",
      "|version|timestamp              |userId|userName|operation   |operationParameters                                                                                                                                                                                                                         |job |notebook|clusterId|readVersion|isolationLevel|isBlindAppend|operationMetrics                                                                                                                                                                                                                                                                                                             |userMetadata|engineInfo                         |\n",
      "+-------+-----------------------+------+--------+------------+--------------------------------------------------------------------------------------------------------------------------------------------------------------------------------------------------------------------------------------------+----+--------+---------+-----------+--------------+-------------+-----------------------------------------------------------------------------------------------------------------------------------------------------------------------------------------------------------------------------------------------------------------------------------------------------------------------------+------------+-----------------------------------+\n",
      "|5      |2025-04-12 10:56:01.155|NULL  |NULL    |UPDATE      |{predicate -> [\"(id#4996 = 3)\"]}                                                                                                                                                                                                            |NULL|NULL    |NULL     |4          |Serializable  |false        |{numRemovedFiles -> 1, numRemovedBytes -> 711, numCopiedRows -> 0, numDeletionVectorsAdded -> 0, numDeletionVectorsRemoved -> 0, numAddedChangeFiles -> 0, executionTimeMs -> 1665, numDeletionVectorsUpdated -> 0, scanTimeMs -> 1506, numAddedFiles -> 1, numUpdatedRows -> 1, numAddedBytes -> 1435, rewriteTimeMs -> 158}|NULL        |Apache-Spark/3.5.3 Delta-Lake/3.2.0|\n",
      "|4      |2025-04-12 10:55:46.364|NULL  |NULL    |UPDATE      |{predicate -> [\"(id#4614 = 2)\"]}                                                                                                                                                                                                            |NULL|NULL    |NULL     |3          |Serializable  |false        |{numRemovedFiles -> 1, numRemovedBytes -> 711, numCopiedRows -> 0, numDeletionVectorsAdded -> 0, numDeletionVectorsRemoved -> 0, numAddedChangeFiles -> 0, executionTimeMs -> 823, numDeletionVectorsUpdated -> 0, scanTimeMs -> 618, numAddedFiles -> 1, numUpdatedRows -> 1, numAddedBytes -> 1414, rewriteTimeMs -> 205}  |NULL        |Apache-Spark/3.5.3 Delta-Lake/3.2.0|\n",
      "|3      |2025-04-12 10:55:35.101|NULL  |NULL    |UPDATE      |{predicate -> [\"(id#3219 = 1)\"]}                                                                                                                                                                                                            |NULL|NULL    |NULL     |2          |Serializable  |false        |{numRemovedFiles -> 1, numRemovedBytes -> 711, numCopiedRows -> 0, numDeletionVectorsAdded -> 0, numDeletionVectorsRemoved -> 0, numAddedChangeFiles -> 0, executionTimeMs -> 1126, numDeletionVectorsUpdated -> 0, scanTimeMs -> 810, numAddedFiles -> 1, numUpdatedRows -> 1, numAddedBytes -> 1447, rewriteTimeMs -> 313} |NULL        |Apache-Spark/3.5.3 Delta-Lake/3.2.0|\n",
      "|2      |2025-04-12 10:55:27.835|NULL  |NULL    |ADD COLUMNS |{columns -> [{\"column\":{\"name\":\"marca\",\"type\":\"string\",\"nullable\":true,\"metadata\":{}}},{\"column\":{\"name\":\"modelo\",\"type\":\"string\",\"nullable\":true,\"metadata\":{}}},{\"column\":{\"name\":\"ano\",\"type\":\"integer\",\"nullable\":true,\"metadata\":{}}}]}|NULL|NULL    |NULL     |1          |Serializable  |true         |{}                                                                                                                                                                                                                                                                                                                           |NULL        |Apache-Spark/3.5.3 Delta-Lake/3.2.0|\n",
      "|1      |2025-04-12 10:55:18.729|NULL  |NULL    |WRITE       |{mode -> Append, partitionBy -> []}                                                                                                                                                                                                         |NULL|NULL    |NULL     |0          |Serializable  |true         |{numFiles -> 3, numOutputRows -> 3, numOutputBytes -> 2133}                                                                                                                                                                                                                                                                  |NULL        |Apache-Spark/3.5.3 Delta-Lake/3.2.0|\n",
      "|0      |2025-04-12 10:54:48.602|NULL  |NULL    |CREATE TABLE|{partitionBy -> [], clusterBy -> [], description -> NULL, isManaged -> true, properties -> {}}                                                                                                                                              |NULL|NULL    |NULL     |NULL       |Serializable  |true         |{}                                                                                                                                                                                                                                                                                                                           |NULL        |Apache-Spark/3.5.3 Delta-Lake/3.2.0|\n",
      "+-------+-----------------------+------+--------+------------+--------------------------------------------------------------------------------------------------------------------------------------------------------------------------------------------------------------------------------------------+----+--------+---------+-----------+--------------+-------------+-----------------------------------------------------------------------------------------------------------------------------------------------------------------------------------------------------------------------------------------------------------------------------------------------------------------------------+------------+-----------------------------------+\n",
      "\n"
     ]
    }
   ],
   "source": [
    "spark.sql('describe HISTORY carro_delta').show(truncate=False);"
   ]
  }
 ],
 "metadata": {
  "colab": {
   "provenance": []
  },
  "kernelspec": {
   "display_name": ".venv",
   "language": "python",
   "name": "python3"
  },
  "language_info": {
   "codemirror_mode": {
    "name": "ipython",
    "version": 3
   },
   "file_extension": ".py",
   "mimetype": "text/x-python",
   "name": "python",
   "nbconvert_exporter": "python",
   "pygments_lexer": "ipython3",
   "version": "3.13.2"
  }
 },
 "nbformat": 4,
 "nbformat_minor": 4
}
